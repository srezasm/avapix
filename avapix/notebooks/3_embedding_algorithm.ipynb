{
 "cells": [
  {
   "cell_type": "markdown",
   "metadata": {},
   "source": [
    "## Overview"
   ]
  },
  {
   "cell_type": "markdown",
   "metadata": {},
   "source": [
    "### ASCII Color Channel text embedding method overview\n",
    "\n",
    "1. embed text into a 64x64 RGB raw image\n",
    "2. Give the embedded image to the model\n",
    "3. Model modifies the remaining pixels to look like a face"
   ]
  },
  {
   "cell_type": "markdown",
   "metadata": {},
   "source": [
    "The limited number of pixels will inevitably limit the number of characters, but we're looking for a way to embed the character in a way that best suits the model while pushing the limit.\n",
    "\n",
    "The current method of embedding text into an image is to convert each character to its ASCII number and store it in one of the RGB color channels of the 64 pixels. So we'll be able to store 192 characters per image. It is also worth noting that increasing the number of characters will result in more occupied pixels in the raw input image, thus most likely decreasing the quality of the output avatar.\n",
    "\n",
    "We'll use the first color channel of the top-left, down-left, and down-right pixels to store metadata to aid in text extraction:\n",
    "\n",
    "  - top-left(2nd index): text length\n",
    "  - down-left(170th index): random seed to generate color channel index order\n",
    "  - down-right(189th index): version number for backward compatibility in case of a new embedding algorithm, etc.\n",
    "    - We'll assign a random number in range of 0-255 to each version.\n",
    "\n",
    "The order of filling the color channels is important:\n",
    "\n",
    "  - The order should be consistent in order for the model to learn to generate avatars better and to make the decoding process easier.\n",
    "    - The user can provide a random seed to shuffle the order of the indices, which can be stored at a fixed position in the image.\n",
    "  - We don't want any of the occupied color channels to overlap unless there is no empty one left (after 64 characters)\n",
    "  - Given the normal distribution of left-right symmetry in training examples, the order of filling color channels should be such that it results in a symmetric input image.\n",
    "\n",
    "    ![normal distribution of avatars symmetry](./assets/normal-dist-plot.png)\n",
    "    \n",
    "  - It's best to use different color channels in symmetric pixels to give the model a chance to change the remaining color channels to make pixels equal.\n",
    "\n",
    "---\n",
    "\n",
    "Advantages of ASCII-Color-Channel method:\n",
    "\n",
    "  1. Straightforward\n",
    "  2. Filling only one color channel per a character allows the model to modify the available color channels of the same pixel to come up with the best color to create the avatar\n",
    "\n",
    "Disadvantages:\n",
    "\n",
    "  1. Limitation in character range: 0-255 (color channel intensity)\n",
    "  2. Low diversity of data; i.e. the most useful characters are in the range of 20-126 in ASCII table\n"
   ]
  },
  {
   "cell_type": "markdown",
   "metadata": {},
   "source": [
    "## Code representation"
   ]
  },
  {
   "cell_type": "code",
   "execution_count": null,
   "metadata": {},
   "outputs": [],
   "source": [
    "from PIL import Image\n",
    "import matplotlib.pyplot as plt\n",
    "import numpy as np\n",
    "from numpy import ndarray\n",
    "import math\n",
    "import random\n",
    "\n",
    "from settings import *"
   ]
  },
  {
   "cell_type": "code",
   "execution_count": null,
   "metadata": {},
   "outputs": [],
   "source": [
    "def show_img(img: ndarray, title: str = ''):\n",
    "    plt.imshow(img)\n",
    "    plt.axis('off')\n",
    "    plt.title(title)\n",
    "    plt.show()"
   ]
  },
  {
   "cell_type": "markdown",
   "metadata": {},
   "source": [
    "ASCII characters in the range of 0-255:\n",
    "\n",
    "```[special characters] !\"#$%&'()*+,-./0123456789:;<=>?@ABCDEFGHIJKLMNOPQRSTUVWXYZ[\\]^_`abcdefghijklmnopqrstuvwxyz{|}~ [special characters]```"
   ]
  },
  {
   "cell_type": "markdown",
   "metadata": {},
   "source": [
    "### Generate an asymmetric order for color channel indexes"
   ]
  },
  {
   "cell_type": "code",
   "execution_count": 4,
   "metadata": {},
   "outputs": [],
   "source": [
    "def gen_pixel_order_v1(random_seed: int):\n",
    "    np.random.seed(random_seed)\n",
    "\n",
    "    left_pixels = (\n",
    "        np.arange(0, 64)\n",
    "        .reshape(8, 8)[:, :4]   # pick left pixels\n",
    "        .reshape(-1)            # convert to 1d array\n",
    "    )\n",
    "\n",
    "    # shuffle left pixels\n",
    "    shuffled_left_pixels = np.random.permutation(left_pixels)\n",
    "\n",
    "    index_order = []\n",
    "\n",
    "    # for each color channel (RGB: 0 for Red, 1 for Green, 2 for Blue)\n",
    "    for left, right in zip([2, 0, 1], [0, 1, 2]):\n",
    "        for pixel in shuffled_left_pixels:\n",
    "            if pixel == 0:\n",
    "                row = 1\n",
    "            elif pixel % 8 == 0:\n",
    "                row = pixel // 8 + 1\n",
    "            else:\n",
    "                row = math.ceil(pixel / 8)\n",
    "            \n",
    "            first = (row - 1) * 8\n",
    "            last = row * 8 - 1\n",
    "            position = pixel - first\n",
    "            mirror = last - position\n",
    "\n",
    "            # append index for the current channel\n",
    "            index_order.append(pixel*3 + left)\n",
    "\n",
    "            # append index for the mirrored channel\n",
    "            index_order.append(mirror*3 + right)\n",
    "\n",
    "    # remove the first color channel to store the text length\n",
    "    index_order.remove(TEXT_LENGTH_INDEX)\n",
    "\n",
    "    # remove the down-left pixels first color channel to store random seed\n",
    "    index_order.remove(RANDOM_SEED_INDEX)\n",
    "\n",
    "    # remove the down-right pixels first color channel to store version\n",
    "    index_order.remove(VERSION_NUM_INDEX)\n",
    "\n",
    "    return index_order"
   ]
  },
  {
   "cell_type": "markdown",
   "metadata": {},
   "source": [
    "### embedding text in the color channels in the specified order"
   ]
  },
  {
   "cell_type": "code",
   "execution_count": 5,
   "metadata": {},
   "outputs": [],
   "source": [
    "def embed_raw_img_v1(text: str, random_seed: int):\n",
    "    max_text_len = 188\n",
    "    text_length = len(text)\n",
    "\n",
    "    if text_length > max_text_len:\n",
    "        raise Exception(\n",
    "            message=f'Text must be shorter than {max_text_len} characters.')\n",
    "\n",
    "    index_order = gen_pixel_order_v1(random_seed)\n",
    "\n",
    "    img = np.zeros(8*8*3, np.int16)\n",
    "\n",
    "    img[TEXT_LENGTH_INDEX] = text_length\n",
    "    img[RANDOM_SEED_INDEX] = random_seed\n",
    "    img[VERSION_NUM_INDEX] = V1_NUMBER          # version number\n",
    "\n",
    "    for i, c in enumerate(text):\n",
    "        img[index_order[i]] = ord(c)\n",
    "\n",
    "    return img.reshape((8, 8, 3))"
   ]
  },
  {
   "cell_type": "markdown",
   "metadata": {},
   "source": [
    "Sample embedded text:"
   ]
  },
  {
   "cell_type": "code",
   "execution_count": 6,
   "metadata": {},
   "outputs": [
    {
     "data": {
      "image/png": "[encoded data removed]",
      "text/plain": [
       "<Figure size 640x480 with 1 Axes>"
      ]
     },
     "metadata": {},
     "output_type": "display_data"
    }
   ],
   "source": [
    "text = 'Hello World!'\n",
    "\n",
    "img = embed_raw_img_v1(text, DEFAULT_RANDOM_SEED)\n",
    "\n",
    "show_img(img, f'embedded text: \"{text}\"')"
   ]
  },
  {
   "cell_type": "markdown",
   "metadata": {},
   "source": [
    "Se we can generate 192 examples per each avatar to train our model, With original image being a non-embedded image and a raw black image being a fully embedded image representation."
   ]
  },
  {
   "cell_type": "markdown",
   "metadata": {},
   "source": [
    "### Text extraction"
   ]
  },
  {
   "cell_type": "code",
   "execution_count": 7,
   "metadata": {},
   "outputs": [],
   "source": [
    "def extract_text(img: ndarray):\n",
    "    if img.ndim == 3:\n",
    "        img = img.reshape(-1)\n",
    "    \n",
    "    version_num = img[VERSION_NUM_INDEX]\n",
    "    if version_num == V1_NUMBER:\n",
    "        text_length = img[TEXT_LENGTH_INDEX]\n",
    "        random_seed = img[RANDOM_SEED_INDEX]\n",
    "        index_order = gen_pixel_order_v1(random_seed)\n",
    "\n",
    "    text = ''\n",
    "\n",
    "    for i in range(text_length):\n",
    "        text += chr(img[index_order[i]])\n",
    "\n",
    "    return text"
   ]
  },
  {
   "cell_type": "markdown",
   "metadata": {},
   "source": [
    "Extract embedded text from image:"
   ]
  },
  {
   "cell_type": "code",
   "execution_count": 8,
   "metadata": {},
   "outputs": [
    {
     "name": "stdout",
     "output_type": "stream",
     "text": [
      "Hello World!\n"
     ]
    }
   ],
   "source": [
    "text = extract_text(img)\n",
    "print(text)"
   ]
  },
  {
   "cell_type": "markdown",
   "metadata": {},
   "source": [
    "### Model"
   ]
  },
  {
   "cell_type": "markdown",
   "metadata": {},
   "source": [
    "Illustrating the expected output, and input of the model"
   ]
  },
  {
   "cell_type": "code",
   "execution_count": 9,
   "metadata": {},
   "outputs": [],
   "source": [
    "def generate_input(img: ndarray, random_seed: int,\n",
    "                   text_length: int, version_num: int):\n",
    "    index_order = gen_pixel_order_v1(random_seed)\n",
    "\n",
    "    result_img = img.copy().reshape(-1)\n",
    "\n",
    "    # embed metadata\n",
    "    result_img[TEXT_LENGTH_INDEX] = text_length\n",
    "    result_img[RANDOM_SEED_INDEX] = random_seed\n",
    "    result_img[VERSION_NUM_INDEX] = version_num\n",
    "\n",
    "    excess_indexes = index_order[text_length:]\n",
    "    result_img[excess_indexes] = 0\n",
    "\n",
    "    return result_img"
   ]
  },
  {
   "cell_type": "markdown",
   "metadata": {},
   "source": [
    "Generate a sample input based on an avatar"
   ]
  },
  {
   "cell_type": "code",
   "execution_count": 10,
   "metadata": {},
   "outputs": [
    {
     "data": {
      "image/png": "[encoded data removed]",
      "text/plain": [
       "<Figure size 1000x500 with 2 Axes>"
      ]
     },
     "metadata": {},
     "output_type": "display_data"
    }
   ],
   "source": [
    "avatar_img = Image.open('../valid_faces/00002.png')\n",
    "avatar_img = np.array(avatar_img)\n",
    "\n",
    "text_length = 61\n",
    "\n",
    "input_img = generate_input(avatar_img, DEFAULT_RANDOM_SEED, text_length, V1_NUMBER)\n",
    "\n",
    "# plot\n",
    "fig, axs = plt.subplots(1, 2, figsize=(10, 5))\n",
    "\n",
    "axs[0].imshow(avatar_img)\n",
    "axs[0].axis('off')\n",
    "axs[0].set_title('Original avatar\\nExpected output')\n",
    "\n",
    "axs[1].imshow(input_img.reshape((8, 8, 3)))\n",
    "axs[1].axis('off')\n",
    "axs[1].set_title(f'Sample embedded input with {text_length} characters\\nInput')\n",
    "\n",
    "plt.show()"
   ]
  },
  {
   "cell_type": "markdown",
   "metadata": {},
   "source": [
    "## Ideas & Thoughts"
   ]
  },
  {
   "cell_type": "markdown",
   "metadata": {},
   "source": [
    "- Calculate the estimated location of the most important pixels, such as eyes, mouth, hair, etc., and consider them when defining the order of the color channels.\n",
    "- Model decides the order of embedded color channels."
   ]
  }
 ],
 "metadata": {
  "kernelspec": {
   "display_name": "Python 3",
   "language": "python",
   "name": "python3"
  },
  "language_info": {
   "codemirror_mode": {
    "name": "ipython",
    "version": 3
   },
   "file_extension": ".py",
   "mimetype": "text/x-python",
   "name": "python",
   "nbconvert_exporter": "python",
   "pygments_lexer": "ipython3",
   "version": "3.10.12"
  },
  "orig_nbformat": 4
 },
 "nbformat": 4,
 "nbformat_minor": 2
}
