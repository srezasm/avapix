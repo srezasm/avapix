{
 "cells": [
  {
   "cell_type": "code",
   "execution_count": 1,
   "metadata": {},
   "outputs": [],
   "source": [
    "from PIL import Image\n",
    "import matplotlib.pyplot as plt\n",
    "import numpy as np\n",
    "from numpy import ndarray\n",
    "import random"
   ]
  },
  {
   "cell_type": "code",
   "execution_count": 2,
   "metadata": {},
   "outputs": [],
   "source": [
    "def show_img(img: ndarray, title: str = ''):\n",
    "    plt.imshow(img)\n",
    "    plt.axis('off')\n",
    "    plt.title(title)\n",
    "    plt.show()"
   ]
  },
  {
   "cell_type": "markdown",
   "metadata": {},
   "source": [
    "## encoding"
   ]
  },
  {
   "cell_type": "markdown",
   "metadata": {},
   "source": [
    "### ASCII Color Channel text encoding method overview\n",
    "\n",
    "1. Encode text into a 64x64 RGB raw image\n",
    "2. Give the encoded image to the model\n",
    "3. Model modifies the remaining pixels to look like a face"
   ]
  },
  {
   "cell_type": "markdown",
   "metadata": {},
   "source": [
    "The limited number of pixels will inevitably limit the number of characters, but we're looking for a way to encode the character in a way that best suits the model while pushing the limit.\n",
    "\n",
    "The current method of encoding text into an image is to convert each character to its ASCII number and store it in one of the RGB color channels of the 64 pixels. So we'll be able to store 192 characters per image. It is also worth noting that increasing the number of characters will result in more occupied pixels in the raw input image, thus most likely decreasing the quality of the output avatar.\n",
    "\n",
    "The order of filling the color channels is important:\n",
    "\n",
    "  - The order should be consistent in order for the model to learn to generate avatars better and to make the decoding process easier.\n",
    "    - The user can provide a random seed to shuffle the order of the indices, which can be stored at a fixed position in the image.\n",
    "  - We don't want any of the occupied color channels to overlap unless there is no empty one left (after 64 characters) [second advantage above].\n",
    "  - Given the normal distribution of left-right symmetry in training examples, the order of filling color channels should be such that it results in a symmetric input image.\n",
    "\n",
    "![normal distribution of avatars symmetry](./assets/normal-dist-plot.png)\n",
    "\n",
    "---\n",
    "\n",
    "Advantages of ASCII-Color-Channel method:\n",
    "\n",
    "  1. Straightforward\n",
    "  2. Filling only one color channel per a character allows the model to modify the available color channels of the same pixel to come up with the best color to create the avatar\n",
    "\n",
    "Disadvantages:\n",
    "\n",
    "  1. Limitation in character range: 0-255 (color channel intensity)\n",
    "  2. Low diversity of data; i.e. the most useful characters are in the range of 20-126 in ASCII table\n"
   ]
  },
  {
   "cell_type": "markdown",
   "metadata": {},
   "source": [
    "## Code representation"
   ]
  },
  {
   "cell_type": "markdown",
   "metadata": {},
   "source": [
    "ASCII characters in the range of 0-255"
   ]
  },
  {
   "cell_type": "code",
   "execution_count": null,
   "metadata": {},
   "outputs": [],
   "source": [
    "for c in range(0, 255):\n",
    "    print(chr(c), end='')\n",
    "\n",
    "# printing special characters terminated the rendering of the rest of the notebook due to a github bug, so commented them manually:\n",
    "# [special characters] !\"#$%&'()*+,-./0123456789:;<=>?@ABCDEFGHIJKLMNOPQRSTUVWXYZ[\\]^_`abcdefghijklmnopqrstuvwxyz{|}~ [more special characters]"
   ]
  },
  {
   "cell_type": "markdown",
   "metadata": {},
   "source": [
    "Lest generate an asymmetric order of indexes"
   ]
  },
  {
   "cell_type": "code",
   "execution_count": 113,
   "metadata": {},
   "outputs": [
    {
     "name": "stdout",
     "output_type": "stream",
     "text": [
      "first 12 symmetric shuffled color channel indexes: \n",
      "[171, 188, 81, 86, 144, 167, 99, 116, 48, 71, 51, 68]\n"
     ]
    }
   ],
   "source": [
    "# get the index of left side color channels\n",
    "left_indexes = np.arange(0, 64*3).reshape((8, 8*3))[:, :12]\n",
    "\n",
    "# split each 3 color channel index to a pixel\n",
    "color_channels = left_indexes.reshape(32, 3)\n",
    "\n",
    "# shuffle the pixels\n",
    "shuffled_pixels = color_channels.copy()\n",
    "np.random.seed(42)\n",
    "np.random.shuffle(shuffled_pixels)\n",
    "\n",
    "# append the mirrored index of each color channel after it\n",
    "picked_indexes = []\n",
    "for i in range(3):\n",
    "    for j in range(32):\n",
    "        left_index = shuffled_pixels[j, i]\n",
    "        right_index = left_index + (12 - (left_index % 12)) * 2 - 1\n",
    "        picked_indexes.append(left_index)\n",
    "        picked_indexes.append(right_index)\n",
    "\n",
    "print('first 12 symmetric shuffled color channel indexes: ')\n",
    "print(picked_indexes[:12])"
   ]
  },
  {
   "cell_type": "markdown",
   "metadata": {},
   "source": [
    "Encoding text in the color channels in the specified order"
   ]
  },
  {
   "cell_type": "code",
   "execution_count": 91,
   "metadata": {},
   "outputs": [
    {
     "name": "stderr",
     "output_type": "stream",
     "text": [
      "Clipping input data to the valid range for imshow with RGB data ([0..1] for floats or [0..255] for integers).\n"
     ]
    },
    {
     "data": {
      "image/png": "[encoded data removed]",
      "text/plain": [
       "<Figure size 640x480 with 1 Axes>"
      ]
     },
     "metadata": {},
     "output_type": "display_data"
    }
   ],
   "source": [
    "text = 'Hello World!'\n",
    "\n",
    "img = np.zeros((1, 8 * 8 * 3))\n",
    "for i, c in enumerate(text):\n",
    "    img[0, picked_indexes[i]] = ord(c)\n",
    "\n",
    "show_img(img.reshape((8, 8, 3)), f'encoded text: \"{text}\"')"
   ]
  },
  {
   "cell_type": "markdown",
   "metadata": {},
   "source": [
    "The yellow, and purplish colors in the image above are the result of overlapping color channels. We don't want this to happen for such a short text."
   ]
  },
  {
   "cell_type": "markdown",
   "metadata": {},
   "source": [
    "Illustrating the expected output, and input of the model"
   ]
  },
  {
   "cell_type": "code",
   "execution_count": 114,
   "metadata": {},
   "outputs": [
    {
     "data": {
      "image/png": "[encoded data removed]",
      "text/plain": [
       "<Figure size 1000x500 with 2 Axes>"
      ]
     },
     "metadata": {},
     "output_type": "display_data"
    }
   ],
   "source": [
    "num_to_exclude = 32\n",
    "selected_idxs = picked_indexes[:num_to_exclude]\n",
    "\n",
    "img = np.array(Image.open('../valid_faces/00001.png'))\n",
    "\n",
    "new_img = img.copy()\n",
    "new_img = new_img.reshape(8*8*3)\n",
    "new_img[selected_idxs] = 0\n",
    "\n",
    "fig, axs = plt.subplots(1, 2, figsize=(10, 5))\n",
    "\n",
    "axs[0].imshow(img)\n",
    "axs[0].axis('off')\n",
    "axs[0].set_title('Original avatar\\nExpected output')\n",
    "\n",
    "axs[1].imshow(new_img.reshape((8, 8, 3)))\n",
    "axs[1].axis('off')\n",
    "axs[1].set_title(f'Avatar with {192 - len(selected_idxs)} out of 192 color channels\\nInput')\n",
    "\n",
    "plt.show()"
   ]
  },
  {
   "cell_type": "markdown",
   "metadata": {},
   "source": [
    "Se we can generate 192 examples per each avatar to train our model, With original image being a non-encoded image and a raw black image being a fully encoded image representation."
   ]
  },
  {
   "cell_type": "markdown",
   "metadata": {},
   "source": [
    "## Ideas & Thoughts"
   ]
  },
  {
   "cell_type": "markdown",
   "metadata": {},
   "source": [
    "- Calculate the estimated location of the most important pixels, such as eyes, mouth, hair, etc., and consider them when defining the order of the color channels.\n",
    "- Model decides the order of encoded color channels."
   ]
  }
 ],
 "metadata": {
  "kernelspec": {
   "display_name": "Python 3",
   "language": "python",
   "name": "python3"
  },
  "language_info": {
   "codemirror_mode": {
    "name": "ipython",
    "version": 3
   },
   "file_extension": ".py",
   "mimetype": "text/x-python",
   "name": "python",
   "nbconvert_exporter": "python",
   "pygments_lexer": "ipython3",
   "version": "3.10.12"
  },
  "orig_nbformat": 4
 },
 "nbformat": 4,
 "nbformat_minor": 2
}
