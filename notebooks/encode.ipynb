{
 "cells": [
  {
   "cell_type": "markdown",
   "metadata": {},
   "source": [
    "## encoding"
   ]
  },
  {
   "cell_type": "code",
   "execution_count": 1,
   "metadata": {},
   "outputs": [],
   "source": [
    "from PIL import Image\n",
    "\n",
    "\n",
    "def encode_string_as_image(string):\n",
    "    # Trim or pad the string to match the desired length of 64 characters\n",
    "    string = string[:64].ljust(64, \" \")\n",
    "\n",
    "    # Create a new 8x8 RGB image\n",
    "    image = Image.new(\"RGB\", (8, 8))\n",
    "\n",
    "    # Create a pixel access object for the image\n",
    "    pixels = image.load()\n",
    "\n",
    "    # Iterate over each character in the string\n",
    "    for i, char in enumerate(string):\n",
    "        # Convert the ASCII value of the character to RGB values\n",
    "        r = ord(char) % 256\n",
    "        g = (ord(char) // 256) % 256\n",
    "        b = (ord(char) // 256 // 256) % 256\n",
    "\n",
    "        # Calculate the row and column index for the pixel\n",
    "        row = i // 8\n",
    "        col = i % 8\n",
    "\n",
    "        # Set the pixel color in the image\n",
    "        pixels[col, row] = (r, g, b)\n",
    "\n",
    "    return image"
   ]
  },
  {
   "cell_type": "code",
   "execution_count": 2,
   "metadata": {},
   "outputs": [
    {
     "data": {
      "text/plain": [
       "<matplotlib.image.AxesImage at 0x7f9536c0f5b0>"
      ]
     },
     "execution_count": 2,
     "metadata": {},
     "output_type": "execute_result"
    },
    {
     "data": {
      "image/png": "[encoded data removed]",
      "text/plain": [
       "<Figure size 640x480 with 1 Axes>"
      ]
     },
     "metadata": {},
     "output_type": "display_data"
    }
   ],
   "source": [
    "import matplotlib.pyplot as plt\n",
    "\n",
    "plt.imshow(encode_string_as_image(\"bc1qar0srrr7xfkvy5l643lydnw9re59gtzzwf5mdq\"))"
   ]
  },
  {
   "cell_type": "code",
   "execution_count": 17,
   "metadata": {},
   "outputs": [],
   "source": [
    "from PIL import Image\n",
    "\n",
    "\n",
    "def encode_string_into_image(pixels: np.ndarray, string):\n",
    "    # # Open the image\n",
    "    # image = Image.open(image_path)\n",
    "\n",
    "    # Verify that the image has dimensions compatible with encoding\n",
    "    width, height, _ = pixels.shape\n",
    "    if width * height < len(string):\n",
    "        raise ValueError(\"Image dimensions are too small to encode the string.\")\n",
    "\n",
    "    # # Create a pixel access object for the image\n",
    "    # pixels = image.load()\n",
    "\n",
    "    # Iterate over each character in the string\n",
    "    for i, char in enumerate(string):\n",
    "        # Convert the ASCII value of the character to RGB values\n",
    "        r = ord(char) % 256\n",
    "        g = (ord(char) // 256) % 256\n",
    "        b = (ord(char) // 256 // 256) % 256\n",
    "\n",
    "        # Calculate the row and column index for the pixel\n",
    "        row = i // width\n",
    "        col = i % width\n",
    "\n",
    "        # Set the pixel color in the image\n",
    "        pixels[col, row] = (r, g, b)\n",
    "\n",
    "    return pixels"
   ]
  },
  {
   "cell_type": "code",
   "execution_count": 18,
   "metadata": {},
   "outputs": [
    {
     "ename": "ValueError",
     "evalue": "could not broadcast input array from shape (3,) into shape (4,)",
     "output_type": "error",
     "traceback": [
      "\u001b[0;31m---------------------------------------------------------------------------\u001b[0m",
      "\u001b[0;31mValueError\u001b[0m                                Traceback (most recent call last)",
      "Cell \u001b[0;32mIn[18], line 1\u001b[0m\n\u001b[0;32m----> 1\u001b[0m new_img \u001b[39m=\u001b[39m encode_string_into_image(img, \u001b[39m\"\u001b[39;49m\u001b[39mhello\u001b[39;49m\u001b[39m\"\u001b[39;49m)\n",
      "Cell \u001b[0;32mIn[17], line 28\u001b[0m, in \u001b[0;36mencode_string_into_image\u001b[0;34m(pixels, string)\u001b[0m\n\u001b[1;32m     25\u001b[0m     col \u001b[39m=\u001b[39m i \u001b[39m%\u001b[39m width\n\u001b[1;32m     27\u001b[0m     \u001b[39m# Set the pixel color in the image\u001b[39;00m\n\u001b[0;32m---> 28\u001b[0m     pixels[col, row] \u001b[39m=\u001b[39m (r, g, b)\n\u001b[1;32m     30\u001b[0m \u001b[39mreturn\u001b[39;00m pixels\n",
      "\u001b[0;31mValueError\u001b[0m: could not broadcast input array from shape (3,) into shape (4,)"
     ]
    }
   ],
   "source": [
    "new_img = encode_string_into_image(face, \"hello\")"
   ]
  },
  {
   "cell_type": "code",
   "execution_count": 43,
   "metadata": {},
   "outputs": [
    {
     "data": {
      "text/plain": [
       "2"
      ]
     },
     "execution_count": 43,
     "metadata": {},
     "output_type": "execute_result"
    }
   ],
   "source": [
    "face[:,:,0].ndim"
   ]
  }
 ],
 "metadata": {
  "kernelspec": {
   "display_name": "Python 3",
   "language": "python",
   "name": "python3"
  },
  "language_info": {
   "codemirror_mode": {
    "name": "ipython",
    "version": 3
   },
   "file_extension": ".py",
   "mimetype": "text/x-python",
   "name": "python",
   "nbconvert_exporter": "python",
   "pygments_lexer": "ipython3",
   "version": "3.10.12"
  },
  "orig_nbformat": 4
 },
 "nbformat": 4,
 "nbformat_minor": 2
}
