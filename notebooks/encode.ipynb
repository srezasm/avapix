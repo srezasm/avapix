{
 "cells": [
  {
   "cell_type": "code",
   "execution_count": 73,
   "metadata": {},
   "outputs": [],
   "source": [
    "from PIL import Image\n",
    "import matplotlib.pyplot as plt\n",
    "import numpy as np\n",
    "from numpy import ndarray\n",
    "import math\n",
    "import random"
   ]
  },
  {
   "cell_type": "code",
   "execution_count": 2,
   "metadata": {},
   "outputs": [],
   "source": [
    "def show_img(img: ndarray, title: str = ''):\n",
    "    plt.imshow(img)\n",
    "    plt.axis('off')\n",
    "    plt.title(title)\n",
    "    plt.show()"
   ]
  },
  {
   "cell_type": "markdown",
   "metadata": {},
   "source": [
    "## encoding"
   ]
  },
  {
   "cell_type": "markdown",
   "metadata": {},
   "source": [
    "### ASCII Color Channel text encoding method overview\n",
    "\n",
    "1. embed text into a 64x64 RGB raw image\n",
    "2. Give the embedded image to the model\n",
    "3. Model modifies the remaining pixels to look like a face"
   ]
  },
  {
   "cell_type": "markdown",
   "metadata": {},
   "source": [
    "The limited number of pixels will inevitably limit the number of characters, but we're looking for a way to embed the character in a way that best suits the model while pushing the limit.\n",
    "\n",
    "The current method of encoding text into an image is to convert each character to its ASCII number and store it in one of the RGB color channels of the 64 pixels. So we'll be able to store 192 characters per image. It is also worth noting that increasing the number of characters will result in more occupied pixels in the raw input image, thus most likely decreasing the quality of the output avatar.\n",
    "\n",
    "The order of filling the color channels is important:\n",
    "\n",
    "  - The order should be consistent in order for the model to learn to generate avatars better and to make the decoding process easier.\n",
    "    - The user can provide a random seed to shuffle the order of the indices, which can be stored at a fixed position in the image.\n",
    "  - We don't want any of the occupied color channels to overlap unless there is no empty one left (after 64 characters) [second advantage above].\n",
    "  - Given the normal distribution of left-right symmetry in training examples, the order of filling color channels should be such that it results in a symmetric input image.\n",
    "\n",
    "![normal distribution of avatars symmetry](./assets/normal-dist-plot.png)\n",
    "\n",
    "---\n",
    "\n",
    "Advantages of ASCII-Color-Channel method:\n",
    "\n",
    "  1. Straightforward\n",
    "  2. Filling only one color channel per a character allows the model to modify the available color channels of the same pixel to come up with the best color to create the avatar\n",
    "\n",
    "Disadvantages:\n",
    "\n",
    "  1. Limitation in character range: 0-255 (color channel intensity)\n",
    "  2. Low diversity of data; i.e. the most useful characters are in the range of 20-126 in ASCII table\n"
   ]
  },
  {
   "cell_type": "markdown",
   "metadata": {},
   "source": [
    "## Code representation"
   ]
  },
  {
   "cell_type": "markdown",
   "metadata": {},
   "source": [
    "ASCII characters in the range of 0-255"
   ]
  },
  {
   "cell_type": "code",
   "execution_count": null,
   "metadata": {},
   "outputs": [],
   "source": [
    "for c in range(0, 255):\n",
    "    print(chr(c), end='')\n",
    "\n",
    "# printing special characters terminated the rendering of the rest of the notebook due to a github bug, so commented them manually:\n",
    "# [special characters] !\"#$%&'()*+,-./0123456789:;<=>?@ABCDEFGHIJKLMNOPQRSTUVWXYZ[\\]^_`abcdefghijklmnopqrstuvwxyz{|}~ [more special characters]"
   ]
  },
  {
   "cell_type": "markdown",
   "metadata": {},
   "source": [
    "Lest generate an asymmetric order of indexes"
   ]
  },
  {
   "cell_type": "code",
   "execution_count": 81,
   "metadata": {},
   "outputs": [],
   "source": [
    "def calculate_row(index):\n",
    "    if index == 0:\n",
    "        return 1\n",
    "    elif index % 8 == 0:\n",
    "        return index // 8 + 1\n",
    "    else:\n",
    "        return math.ceil(index / 8)\n",
    "\n",
    "\n",
    "np.random.seed(42)\n",
    "\n",
    "left_pixels = (\n",
    "    np.arange(0, 64)\n",
    "    .reshape(8, 8)[:, :4]   # pick left pixels\n",
    "    .reshape(-1)            # convert to 1d array\n",
    ")\n",
    "\n",
    "# shuffle left pixels\n",
    "shuffled_left_pixels = np.random.permutation(left_pixels)\n",
    "\n",
    "picked_indexes = []\n",
    "\n",
    "# for each color channel (RGB: 2 for Blue, 0 for Red, 1 for Green)\n",
    "for color_channel in [2, 0, 1]:\n",
    "    for pixel in shuffled_left_pixels:\n",
    "        row = calculate_row(pixel)\n",
    "        first = (row - 1) * 8\n",
    "        last = row * 8 - 1\n",
    "        position = pixel - first\n",
    "        mirror = last - position\n",
    "\n",
    "        # append index for the current channel\n",
    "        picked_indexes.append(pixel*3 + color_channel)\n",
    "\n",
    "        # append index for the mirrored channel\n",
    "        picked_indexes.append(mirror*3 + color_channel)\n",
    "\n",
    "# remove first color channel to store the text length\n",
    "picked_indexes.remove(0)"
   ]
  },
  {
   "cell_type": "markdown",
   "metadata": {},
   "source": [
    "Encoding text in the color channels in the specified order"
   ]
  },
  {
   "cell_type": "code",
   "execution_count": 82,
   "metadata": {},
   "outputs": [
    {
     "data": {
      "image/png": "[encoded data removed]",
      "text/plain": [
       "<Figure size 640x480 with 1 Axes>"
      ]
     },
     "metadata": {},
     "output_type": "display_data"
    }
   ],
   "source": [
    "text = 'Hello World!'\n",
    "text_length = len(text)\n",
    "\n",
    "if text_length > 191:\n",
    "    print('ERROR: text should be shorter than 191 characters')\n",
    "\n",
    "img = np.zeros(8 * 8 * 3, np.int16)\n",
    "img[0] = text_length\n",
    "for i, c in enumerate(text):\n",
    "    img[picked_indexes[i]] = ord(c)\n",
    "\n",
    "show_img(img.reshape((8, 8, 3)), f'embedded text: \"{text}\"')"
   ]
  },
  {
   "cell_type": "markdown",
   "metadata": {},
   "source": [
    "Illustrating the expected output, and input of the model"
   ]
  },
  {
   "cell_type": "code",
   "execution_count": 95,
   "metadata": {},
   "outputs": [
    {
     "data": {
      "image/png": "[encoded data removed]",
      "text/plain": [
       "<Figure size 1000x500 with 2 Axes>"
      ]
     },
     "metadata": {},
     "output_type": "display_data"
    }
   ],
   "source": [
    "num_characters = 36\n",
    "\n",
    "avatar_img = np.array(Image.open('../valid_faces/00001.png'))\n",
    "\n",
    "new_img = np.zeros_like(avatar_img)\n",
    "new_img = new_img.reshape(-1)       # convert to one dim\n",
    "new_img[0] = num_characters         # embed the length of text\n",
    "new_img[picked_indexes[:num_characters]] = \\\n",
    "    avatar_img.reshape(-1)[picked_indexes[:num_characters]]\n",
    "\n",
    "fig, axs = plt.subplots(1, 2, figsize=(10, 5))\n",
    "\n",
    "axs[0].imshow(avatar_img)\n",
    "axs[0].axis('off')\n",
    "axs[0].set_title('Original avatar\\nExpected output')\n",
    "\n",
    "axs[1].imshow(new_img.reshape((8, 8, 3)))\n",
    "axs[1].axis('off')\n",
    "axs[1].set_title(f'Sample embedded input with {num_characters} characters\\nInput')\n",
    "\n",
    "plt.show()"
   ]
  },
  {
   "cell_type": "markdown",
   "metadata": {},
   "source": [
    "Se we can generate 192 examples per each avatar to train our model, With original image being a non-embedded image and a raw black image being a fully embedded image representation."
   ]
  },
  {
   "cell_type": "markdown",
   "metadata": {},
   "source": [
    "## Decoding"
   ]
  },
  {
   "cell_type": "code",
   "execution_count": 94,
   "metadata": {},
   "outputs": [
    {
     "name": "stdout",
     "output_type": "stream",
     "text": [
      "Hello World!"
     ]
    }
   ],
   "source": [
    "text_length = img[0]\n",
    "\n",
    "for i in range(text_length):\n",
    "    print(\n",
    "        chr(\n",
    "            int(img[picked_indexes[i]])\n",
    "        ),\n",
    "        end=''\n",
    "    )"
   ]
  },
  {
   "cell_type": "markdown",
   "metadata": {},
   "source": [
    "## Ideas & Thoughts"
   ]
  },
  {
   "cell_type": "markdown",
   "metadata": {},
   "source": [
    "- Calculate the estimated location of the most important pixels, such as eyes, mouth, hair, etc., and consider them when defining the order of the color channels.\n",
    "- Model decides the order of embedded color channels."
   ]
  }
 ],
 "metadata": {
  "kernelspec": {
   "display_name": "Python 3",
   "language": "python",
   "name": "python3"
  },
  "language_info": {
   "codemirror_mode": {
    "name": "ipython",
    "version": 3
   },
   "file_extension": ".py",
   "mimetype": "text/x-python",
   "name": "python",
   "nbconvert_exporter": "python",
   "pygments_lexer": "ipython3",
   "version": "3.10.12"
  },
  "orig_nbformat": 4
 },
 "nbformat": 4,
 "nbformat_minor": 2
}
