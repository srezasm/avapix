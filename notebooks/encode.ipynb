{
 "cells": [
  {
   "cell_type": "code",
   "execution_count": 9,
   "metadata": {},
   "outputs": [],
   "source": [
    "from PIL import Image\n",
    "import matplotlib.pyplot as plt\n",
    "import numpy as np\n",
    "from numpy import ndarray\n",
    "import random"
   ]
  },
  {
   "cell_type": "code",
   "execution_count": 4,
   "metadata": {},
   "outputs": [],
   "source": [
    "def show_img(img: ndarray, title: str = ''):\n",
    "    plt.imshow(img)\n",
    "    plt.axis('off')\n",
    "    plt.title(title)\n",
    "    plt.show()"
   ]
  },
  {
   "cell_type": "markdown",
   "metadata": {},
   "source": [
    "## encoding"
   ]
  },
  {
   "cell_type": "markdown",
   "metadata": {},
   "source": [
    "### ASCII Color Channel text encoding method overview\n",
    "\n",
    "1. Encode text into a 64x64 RGB raw image\n",
    "2. Give the encoded image to the model\n",
    "3. Model modifies the remaining pixels to look like a face"
   ]
  },
  {
   "cell_type": "markdown",
   "metadata": {},
   "source": [
    "The limited number of pixels will inevitably limit the number of characters, but we're looking for a way to encode the character in a way that best suits the model while pushing the limit.\n",
    "\n",
    "The current method of encoding text into an image is to convert each character to its ASCII number and store it in one of the RGB color channels of the 64 pixels. So we'll be able to store 192 characters per image. It is also worth noting that increasing the number of characters will result in more occupied pixels in the raw input image, thus most likely decreasing the quality of the output avatar.\n",
    "\n",
    "The order of filling the color channels is important:\n",
    "\n",
    "  - The order should be consistent in order for the model to learn to generate avatars better and to make the decoding process easier.\n",
    "    - The user can provide a random seed to shuffle the order of the indices, which can be stored at a fixed position in the image.\n",
    "  - We don't want any of the occupied color channels to overlap unless there is no empty one left (after 64 characters) [second advantage above].\n",
    "  - Given the normal distribution of left-right symmetry in training examples, the order of filling color channels should be such that it results in a symmetric input image.\n",
    "\n",
    "![normal distribution of avatars symmetry](./assets/normal-dist-plot.png)\n",
    "\n",
    "---\n",
    "\n",
    "Advantages of ASCII-Color-Channel method:\n",
    "\n",
    "  1. Straightforward\n",
    "  2. Filling only one color channel per a character allows the model to modify the available color channels of the same pixel to come up with the best color to create the avatar.\n",
    "\n",
    "Disadvantages:\n",
    "\n",
    "  1. Limitation in character range: 0-255 (color channel intensity)\n"
   ]
  },
  {
   "cell_type": "markdown",
   "metadata": {},
   "source": [
    "## Code representation"
   ]
  },
  {
   "cell_type": "markdown",
   "metadata": {},
   "source": [
    "ASCII characters in the range of 0-255"
   ]
  },
  {
   "cell_type": "code",
   "execution_count": null,
   "metadata": {},
   "outputs": [],
   "source": [
    "for c in range(0, 255):\n",
    "    print(chr(c), end='')\n",
    "\n",
    "# printing special characters terminated the rendering of the rest of the notebook due to a github bug, so commented them manually:\n",
    "# [special characters] !\"#$%&'()*+,-./0123456789:;<=>?@ABCDEFGHIJKLMNOPQRSTUVWXYZ[\\]^_`abcdefghijklmnopqrstuvwxyz{|}~ [more special characters]"
   ]
  },
  {
   "cell_type": "markdown",
   "metadata": {},
   "source": [
    "We'll just generate a random order of indexes for filling the color channels"
   ]
  },
  {
   "cell_type": "code",
   "execution_count": 8,
   "metadata": {},
   "outputs": [
    {
     "name": "stdout",
     "output_type": "stream",
     "text": [
      "45, 136, 76, 143, 113, 177, 15, 18, 16, 9, 78, 112, 66, 65, 153, 30, 145, 69, 111, 68, 171, 154, 118, 98, 67, 115, 24, 158, 60, 141, 114, 166, 19, 90, 170, 5, 133, 142, 165, 82, 109, 162, 35, 135, 42, 182, 101, 55, 75, 126, 29, 156, 56, 51, 163, 38, 31, 155, 12, 41, 159, 189, 184, 97, 26, 123, 85, 95, 2, 46, 100, 93, 128, 36, 180, 22, 183, 117, 127, 11, 119, 152, 6, 27, 104, 4, 32, 124, 138, 122, 137, 10, 62, 96, 139, 0, 172, 146, 70, 187, 64, 44, 120, 28, 40, 148, 175, 25, 23, 144, 140, 81, 108, 79, 84, 39, 125, 86, 77, 186, 161, 47, 94, 147, 190, 61, 73, 33, 43, 132, 3, 105, 53, 173, 150, 178, 49, 80, 34, 7, 110, 91, 83, 169, 174, 89, 8, 13, 59, 164, 131, 17, 72, 168, 134, 167, 176, 63, 54, 107, 50, 188, 58, 48, 88, 21, 57, 160, 185, 129, 37, 157, 181, 1, 52, 149, 130, 151, 103, 99, 116, 87, 74, 121, 191, 20, 71, 106, 14, 92, 179, 102\n"
     ]
    }
   ],
   "source": [
    "idxs = list(np.arange(0, 8*8*3))\n",
    "\n",
    "np.random.seed(42)\n",
    "np.random.shuffle(idxs)\n",
    "\n",
    "print(', '.join(str(i) for i in idxs))"
   ]
  },
  {
   "cell_type": "markdown",
   "metadata": {},
   "source": [
    "Encoding text in the color channels in the specified order"
   ]
  },
  {
   "cell_type": "code",
   "execution_count": 282,
   "metadata": {},
   "outputs": [
    {
     "name": "stderr",
     "output_type": "stream",
     "text": [
      "Clipping input data to the valid range for imshow with RGB data ([0..1] for floats or [0..255] for integers).\n"
     ]
    },
    {
     "data": {
      "image/png": "[encoded data removed]",
      "text/plain": [
       "<Figure size 640x480 with 1 Axes>"
      ]
     },
     "metadata": {},
     "output_type": "display_data"
    }
   ],
   "source": [
    "text = 'Hello World!'\n",
    "\n",
    "img = np.zeros((1, 8 * 8 * 3))\n",
    "for i, c in enumerate(text):\n",
    "    img[0, idxs[i]] = ord(c)\n",
    "\n",
    "show_img(img.reshape((8, 8, 3)), f'encoded text: \"{text}\"')"
   ]
  },
  {
   "cell_type": "markdown",
   "metadata": {},
   "source": [
    "The yellow, and purplish colors in the image above are the result of overlapping color channels. We don't want this to happen for such a short text."
   ]
  },
  {
   "cell_type": "markdown",
   "metadata": {},
   "source": [
    "Illustrating the expected output, and input of the model"
   ]
  },
  {
   "cell_type": "code",
   "execution_count": 25,
   "metadata": {},
   "outputs": [
    {
     "data": {
      "image/png": "[encoded data removed]",
      "text/plain": [
       "<Figure size 1000x500 with 2 Axes>"
      ]
     },
     "metadata": {},
     "output_type": "display_data"
    }
   ],
   "source": [
    "selected_idxs = idxs[:len(idxs) - np.random.choice(np.arange(0, len(idxs)))]\n",
    "\n",
    "img = np.array(Image.open('../valid_faces/00001.png'))\n",
    "\n",
    "new_img = img.copy()\n",
    "new_img = new_img.reshape(8*8*3)\n",
    "new_img[selected_idxs] = 0\n",
    "\n",
    "fig, axs = plt.subplots(1, 2, figsize=(10, 5))\n",
    "\n",
    "axs[0].imshow(img)\n",
    "axs[0].axis('off')\n",
    "axs[0].set_title('Original avatar\\nExpected output')\n",
    "\n",
    "axs[1].imshow(new_img.reshape((8, 8, 3)))\n",
    "axs[1].axis('off')\n",
    "axs[1].set_title(f'Avatar with {len(selected_idxs)} out of 192 color channels\\nInput')\n",
    "\n",
    "plt.show()"
   ]
  },
  {
   "cell_type": "markdown",
   "metadata": {},
   "source": [
    "Se we can generate 192 examples per each avatar to train our model, With original image being a non-encoded image and a raw black image being a fully encoded image representation."
   ]
  },
  {
   "cell_type": "markdown",
   "metadata": {},
   "source": [
    "## Ideas & Thoughts"
   ]
  },
  {
   "cell_type": "markdown",
   "metadata": {},
   "source": [
    "- Calculate the estimated location of the most important pixels, such as eyes, mouth, hair, etc., and consider them when defining the order of the color channels.\n",
    "- Model decides the order of encoded color channels."
   ]
  }
 ],
 "metadata": {
  "kernelspec": {
   "display_name": "Python 3",
   "language": "python",
   "name": "python3"
  },
  "language_info": {
   "codemirror_mode": {
    "name": "ipython",
    "version": 3
   },
   "file_extension": ".py",
   "mimetype": "text/x-python",
   "name": "python",
   "nbconvert_exporter": "python",
   "pygments_lexer": "ipython3",
   "version": "3.10.12"
  },
  "orig_nbformat": 4
 },
 "nbformat": 4,
 "nbformat_minor": 2
}
