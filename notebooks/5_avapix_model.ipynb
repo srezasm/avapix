{
 "cells": [
  {
   "cell_type": "code",
   "execution_count": 1,
   "metadata": {},
   "outputs": [],
   "source": [
    "%load_ext autoreload\n",
    "%autoreload 2\n",
    "\n",
    "from typing import Any\n",
    "import random\n",
    "import os\n",
    "\n",
    "import numpy as np\n",
    "\n",
    "from PIL import Image\n",
    "\n",
    "import torch\n",
    "import torch.nn as nn\n",
    "from torch.utils.data import Dataset, DataLoader\n",
    "\n",
    "import matplotlib.pyplot as plt\n",
    "\n",
    "from validation_model import ValidationModel\n",
    "from settings import *\n",
    "from notebooks.avapix_model import AvapixModel\n",
    "from avapix_utils import ProcessorV1_1, ProcessorV1_0\n",
    "import utils"
   ]
  },
  {
   "cell_type": "code",
   "execution_count": 2,
   "metadata": {},
   "outputs": [
    {
     "name": "stdout",
     "output_type": "stream",
     "text": [
      "Using device: cuda\n"
     ]
    }
   ],
   "source": [
    "DEVICE = (\n",
    "    'cuda'\n",
    "    if torch.cuda.is_available()\n",
    "    else 'mps'\n",
    "    if torch.backends.mps.is_available()\n",
    "    else 'cpu'\n",
    ")\n",
    "\n",
    "print (f'Using device: {DEVICE}')"
   ]
  },
  {
   "cell_type": "code",
   "execution_count": 97,
   "metadata": {},
   "outputs": [],
   "source": [
    "class AvapixLoss(nn.Module):\n",
    "    def __init__(self, zero_limit_value: float = 0.01) -> None:\n",
    "        super().__init__()\n",
    "\n",
    "        self.zero_limit_value = zero_limit_value\n",
    "\n",
    "    def __face_shape_loss(self, x: torch.Tensor):\n",
    "        \"\"\"\n",
    "        Given the validity of the generated image, calculate the\n",
    "        loss of the generated image. The loss is calculated by\n",
    "        the following formula:\n",
    "\n",
    "        loss = tan(1) / x - tan(x)\n",
    "\n",
    "        Which starts from 0 when x = 0, and increases exponentially\n",
    "        as x approaches 1. Therefore the zero_limit_value, limits\n",
    "        the minimum value of x to be zero_limit_value.\n",
    "\n",
    "        The total loss is calculated by taking the mean of the\n",
    "        cubed loss of each generated image.\n",
    "        \"\"\"\n",
    "        x = x.masked_fill(x < self.zero_limit_value, self.zero_limit_value)\n",
    "\n",
    "        one_tensor = torch.tensor([1.0], device=self.device)\n",
    "        loss = torch.tan(one_tensor) / x - torch.tan(x)\n",
    "        loss = loss.pow(2).mean()\n",
    "\n",
    "        return loss\n",
    "\n",
    "    def __penalty_loss(self, output_img: torch.Tensor, org_img: torch.Tensor):\n",
    "        \"\"\"\n",
    "        Penalize the output image embedded color images are not the same\n",
    "        as the original image.\n",
    "        \"\"\"\n",
    "        mask = org_img != 0\n",
    "\n",
    "        result = torch.zeros_like(output_img)\n",
    "        result[mask] = output_img[mask]\n",
    "\n",
    "        loss = (result - org_img).pow(2).mean()\n",
    "\n",
    "        return loss\n",
    "\n",
    "    def forward(self, x: torch.Tensor, output_img: torch.Tensor, org_img: torch.Tensor):\n",
    "        self.device = x.device\n",
    "\n",
    "        loss = self.__face_shape_loss(x)\n",
    "        # loss += self.__penalty_loss(output_img, org_img)\n",
    "\n",
    "        return loss.requires_grad_(True)\n"
   ]
  },
  {
   "cell_type": "code",
   "execution_count": 163,
   "metadata": {},
   "outputs": [],
   "source": [
    "class EmbeddedFacesDataset(Dataset):\n",
    "    def __init__(self, num_samples, device) -> None:\n",
    "        super().__init__()\n",
    "\n",
    "        self.num_samples = num_samples\n",
    "        self.device = device\n",
    "        self.random_lengths = list(range(128))\n",
    "        self.processor = ProcessorV1_1()\n",
    "        self.chars = \" !\\\"#$%&'()*+,-./0123456789:;<=>?@ABCDEFGHIJKLMNOPQRSTUVWXYZ[\\]^_`abcdefghijklmnopqrstuvwxyz{|}~\"\n",
    "\n",
    "    def __getitem__(self, _) -> Any:\n",
    "        curr_rand_len = random.choice(self.random_lengths)\n",
    "\n",
    "        choices = np.random.choice(list(self.chars), curr_rand_len)\n",
    "        text = ''.join(choices)\n",
    "\n",
    "        output_img = self.processor.embed(text)\n",
    "        output_img = utils.numpy_to_tensor(output_img, self.device)\n",
    "\n",
    "        return output_img\n",
    "\n",
    "    def __len__(self):\n",
    "        return self.num_samples\n"
   ]
  },
  {
   "cell_type": "code",
   "execution_count": 164,
   "metadata": {},
   "outputs": [],
   "source": [
    "LEARNING_RATE = 0.00005\n",
    "BATCH_SIZE = 16\n",
    "\n",
    "total_epochs = 0\n",
    "\n",
    "ds = EmbeddedFacesDataset(100_000, DEVICE)\n",
    "dl = DataLoader(ds, BATCH_SIZE)\n",
    "\n",
    "model = AvapixModel()\n",
    "model.to(DEVICE)\n",
    "\n",
    "criterion = AvapixLoss(1e-6)\n",
    "\n",
    "loss_model = ValidationModel()\n",
    "loss_model.load_state_dict(torch.load(\"./checkpoints_vm/epoch-50.pth\"))\n",
    "loss_model.to(DEVICE)\n",
    "loss_model.eval()\n",
    "\n",
    "optimizer = torch.optim.Adam(model.parameters(), lr=LEARNING_RATE, weight_decay=1e-4)\n",
    "losses = []"
   ]
  },
  {
   "cell_type": "code",
   "execution_count": 165,
   "metadata": {},
   "outputs": [
    {
     "name": "stdout",
     "output_type": "stream",
     "text": [
      "Epoch 01 - Loss: 1,285,165.2735\t\tEpoch 02 - Loss: 987,286.0903\t\t\n",
      "Epoch 03 - Loss: 934,395.4042\t\tEpoch 04 - Loss: 911,715.3600\t\t\n",
      "Epoch 05 - Loss: 900,767.6960\t\tEpoch 06 - Loss: 893,673.7298\t\t\n",
      "Epoch 07 - Loss: 886,724.5260\t\t"
     ]
    },
    {
     "ename": "KeyboardInterrupt",
     "evalue": "",
     "output_type": "error",
     "traceback": [
      "\u001b[0;31m---------------------------------------------------------------------------\u001b[0m",
      "\u001b[0;31mKeyboardInterrupt\u001b[0m                         Traceback (most recent call last)",
      "\u001b[1;32m/home/srezas/Programming/projects/avapix/notebooks/5_avapix_model.ipynb Cell 6\u001b[0m line \u001b[0;36m1\n\u001b[1;32m     <a href='vscode-notebook-cell:/home/srezas/Programming/projects/avapix/notebooks/5_avapix_model.ipynb#W5sZmlsZQ%3D%3D?line=11'>12</a>\u001b[0m     loss\u001b[39m.\u001b[39mbackward()\n\u001b[1;32m     <a href='vscode-notebook-cell:/home/srezas/Programming/projects/avapix/notebooks/5_avapix_model.ipynb#W5sZmlsZQ%3D%3D?line=13'>14</a>\u001b[0m     optimizer\u001b[39m.\u001b[39mstep()\n\u001b[0;32m---> <a href='vscode-notebook-cell:/home/srezas/Programming/projects/avapix/notebooks/5_avapix_model.ipynb#W5sZmlsZQ%3D%3D?line=15'>16</a>\u001b[0m     total_loss \u001b[39m+\u001b[39m\u001b[39m=\u001b[39m loss\u001b[39m.\u001b[39;49mitem()\n\u001b[1;32m     <a href='vscode-notebook-cell:/home/srezas/Programming/projects/avapix/notebooks/5_avapix_model.ipynb#W5sZmlsZQ%3D%3D?line=17'>18</a>\u001b[0m avg_loss \u001b[39m=\u001b[39m total_loss \u001b[39m/\u001b[39m \u001b[39mlen\u001b[39m(dl)\n\u001b[1;32m     <a href='vscode-notebook-cell:/home/srezas/Programming/projects/avapix/notebooks/5_avapix_model.ipynb#W5sZmlsZQ%3D%3D?line=18'>19</a>\u001b[0m losses\u001b[39m.\u001b[39mappend(avg_loss)\n",
      "\u001b[0;31mKeyboardInterrupt\u001b[0m: "
     ]
    }
   ],
   "source": [
    "for epoch in range(10):\n",
    "    model.train()\n",
    "    total_loss = 0.0\n",
    "\n",
    "    for batch_imgs in dl:\n",
    "        optimizer.zero_grad()\n",
    "        outputs = model(batch_imgs)\n",
    "\n",
    "        face_loss = loss_model(outputs)\n",
    "        loss = criterion(face_loss, batch_imgs, outputs)\n",
    "\n",
    "        loss.backward()\n",
    "\n",
    "        optimizer.step()\n",
    "\n",
    "        total_loss += loss.item()\n",
    "\n",
    "    avg_loss = total_loss / len(dl)\n",
    "    losses.append(avg_loss)\n",
    "\n",
    "    print(f\"Epoch {total_epochs + 1:02d} - Loss: {avg_loss:,.4f}\", end=\"\\t\\t\")\n",
    "    if (total_epochs + 1) % 2 == 0:\n",
    "        print()\n",
    "\n",
    "    # save progress\n",
    "    #   save checkpoint\n",
    "    torch.save(model.state_dict(), f\"./checkpoints_am/epoch-{total_epochs + 1}.pth\")\n",
    "    #   save model output\n",
    "    img = utils.tensor_to_numpy(outputs[0])\n",
    "    Image.fromarray(np.kron(img, np.ones((30, 30, 1))).astype(np.uint8)).save(\n",
    "        f\"./train_outputs/{total_epochs + 1:02d}.png\"\n",
    "    )\n",
    "\n",
    "    total_epochs += 1\n",
    "\n",
    "print(\"Training complete.\")"
   ]
  },
  {
   "cell_type": "code",
   "execution_count": 141,
   "metadata": {},
   "outputs": [
    {
     "data": {
      "image/png": "[encoded data removed]",
      "text/plain": [
       "<Figure size 640x480 with 1 Axes>"
      ]
     },
     "metadata": {},
     "output_type": "display_data"
    }
   ],
   "source": [
    "plt.plot(range(1, total_epochs + 1), losses)\n",
    "plt.title(\"Training Loss\")\n",
    "plt.xlabel(\"Epoch\")\n",
    "plt.ylabel(\"Loss\")\n",
    "plt.grid(True)\n",
    "plt.show()"
   ]
  },
  {
   "cell_type": "markdown",
   "metadata": {},
   "source": [
    "## Test Area\n",
    "---"
   ]
  },
  {
   "cell_type": "code",
   "execution_count": 83,
   "metadata": {},
   "outputs": [],
   "source": [
    "processor = ProcessorV1_1()\n",
    "embedded_img = processor.embed('bc1qxy2kgdygjrsqtzq2n0yrf2493p83kkfjhx0wlh')\n",
    "input_img = utils.numpy_to_tensor(embedded_img, DEVICE).unsqueeze(0)"
   ]
  },
  {
   "cell_type": "code",
   "execution_count": 82,
   "metadata": {},
   "outputs": [
    {
     "data": {
      "image/png": "[encoded data removed]",
      "text/plain": [
       "<Figure size 640x480 with 1 Axes>"
      ]
     },
     "metadata": {},
     "output_type": "display_data"
    }
   ],
   "source": [
    "model.eval()\n",
    "output_img = model(input_img)\n",
    "utils.show_model_output_image(output_img)"
   ]
  },
  {
   "cell_type": "code",
   "execution_count": 75,
   "metadata": {},
   "outputs": [
    {
     "data": {
      "image/png": "[encoded data removed]",
      "text/plain": [
       "<Figure size 640x480 with 1 Axes>"
      ]
     },
     "metadata": {},
     "output_type": "display_data"
    }
   ],
   "source": [
    "mask = input_img != 0\n",
    "output_img[mask] = input_img[mask]\n",
    "\n",
    "utils.show_model_output_image(output_img)"
   ]
  },
  {
   "cell_type": "code",
   "execution_count": 77,
   "metadata": {},
   "outputs": [
    {
     "data": {
      "text/plain": [
       "'|ò÷*cö\\x04÷\\x1a\\x9dóâ\\x1b\\x9a°ôô\\x17\\x95\\x19úñâåÄ\\x05ôí\\x03B\\x86\\x8fóð\\x05Ïäó\\x95Íç\\x04Sqä\\x92\\x96ñ\\x04ã\\x8eÇ\\x04Îáæ\\x9eÛÖø\\x04ð{TÚh\\x99ò\\x99\\x1bù\\x17çæ\\x86\\x9cå5\\x98\\x9aÌ\\x88\\x88æ\\x95x\\x1b\\x89äø\\x7fÈ\\x9c\\x92ä]ÍX÷âñòå\\x05\\x86øÀëÚúò\\x80öÎ\\x17(ö\\x82\\xa0ï\\x1d\\x8d\\x8f\\x1aö\\x9cçÇÐ\\x87\\x07ôáñÎñ\\x94âô\\x87Þäó\\x8c\\x8døãß\\x04ê\\x87P¡õô\\x1e÷©\\x88ñô\\x98ôÎxVáõ\\x15ö\\x90\\x8fÐöñèô\\x1aæ½õææ\\x8cõë@\\x8eô\\x96ïî'"
      ]
     },
     "execution_count": 77,
     "metadata": {},
     "output_type": "execute_result"
    }
   ],
   "source": [
    "processor.extract(output_img.detach().cpu().squeeze().permute(1, 2, 0).mul(255).numpy().astype(np.uint8))"
   ]
  },
  {
   "cell_type": "code",
   "execution_count": 34,
   "metadata": {},
   "outputs": [],
   "source": [
    "torch.save(model.state_dict(), \"./avapix_in_progress.pth\")"
   ]
  }
 ],
 "metadata": {
  "kernelspec": {
   "display_name": "Python 3",
   "language": "python",
   "name": "python3"
  },
  "language_info": {
   "codemirror_mode": {
    "name": "ipython",
    "version": 3
   },
   "file_extension": ".py",
   "mimetype": "text/x-python",
   "name": "python",
   "nbconvert_exporter": "python",
   "pygments_lexer": "ipython3",
   "version": "3.10.12"
  },
  "orig_nbformat": 4
 },
 "nbformat": 4,
 "nbformat_minor": 2
}
