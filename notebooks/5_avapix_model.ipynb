{
 "cells": [
  {
   "cell_type": "code",
   "execution_count": 1,
   "metadata": {},
   "outputs": [],
   "source": [
    "%load_ext autoreload\n",
    "%autoreload 2\n",
    "\n",
    "from typing import Any\n",
    "import random\n",
    "import os\n",
    "\n",
    "import numpy as np\n",
    "\n",
    "from PIL import Image\n",
    "\n",
    "import torch\n",
    "import torch.nn as nn\n",
    "from torch.utils.data import Dataset, DataLoader\n",
    "\n",
    "import matplotlib.pyplot as plt\n",
    "\n",
    "from validation_model import ValidationModel\n",
    "from settings import *\n",
    "from notebooks.avapix_model import AvapixModel\n",
    "from avapix_utils import ProcessorV1_1, ProcessorV1_0\n",
    "import utils"
   ]
  },
  {
   "cell_type": "code",
   "execution_count": 2,
   "metadata": {},
   "outputs": [
    {
     "name": "stdout",
     "output_type": "stream",
     "text": [
      "Using device: cuda\n"
     ]
    }
   ],
   "source": [
    "DEVICE = (\n",
    "    'cuda'\n",
    "    if torch.cuda.is_available()\n",
    "    else 'mps'\n",
    "    if torch.backends.mps.is_available()\n",
    "    else 'cpu'\n",
    ")\n",
    "\n",
    "print (f'Using device: {DEVICE}')"
   ]
  },
  {
   "cell_type": "code",
   "execution_count": 68,
   "metadata": {},
   "outputs": [],
   "source": [
    "class AvapixLoss(nn.Module):\n",
    "    def __init__(self, zero_limit_value: float = 0.01) -> None:\n",
    "        super().__init__()\n",
    "\n",
    "        self.zero_limit_value = zero_limit_value\n",
    "\n",
    "    def __face_shape_loss(self, x: torch.Tensor):\n",
    "        \"\"\"\n",
    "        Given the validity of the generated image, calculate the\n",
    "        loss of the generated image. The loss is calculated by\n",
    "        the following formula:\n",
    "\n",
    "        loss = tan(1) / x - tan(x)\n",
    "\n",
    "        Which starts from 0 when x = 0, and increases exponentially\n",
    "        as x approaches 1. Therefore the zero_limit_value, limits\n",
    "        the minimum value of x to be zero_limit_value.\n",
    "\n",
    "        The total loss is calculated by taking the mean of the\n",
    "        cubed loss of each generated image.\n",
    "        \"\"\"\n",
    "        x = x.masked_fill(x < self.zero_limit_value, self.zero_limit_value)\n",
    "\n",
    "        one_tensor = torch.tensor([1.0], device=self.device)\n",
    "        loss = torch.tan(one_tensor) / x - torch.tan(x)\n",
    "        loss = loss.pow(2).mean()\n",
    "\n",
    "        return loss\n",
    "\n",
    "    def __penalty_loss(self, output_img: torch.Tensor, org_img: torch.Tensor):\n",
    "        \"\"\"\n",
    "        Penalize the output image embedded color images are not the same\n",
    "        as the original image.\n",
    "        \"\"\"\n",
    "        mask = org_img != 0\n",
    "\n",
    "        result = torch.zeros_like(output_img)\n",
    "        result[mask] = output_img[mask]\n",
    "\n",
    "        loss = ((result - org_img) * 255).pow(2).mean()\n",
    "\n",
    "        return loss\n",
    "\n",
    "    def forward(self, x: torch.Tensor, output_img: torch.Tensor, org_img: torch.Tensor):\n",
    "        self.device = x.device\n",
    "\n",
    "        loss = self.__face_shape_loss(x)\n",
    "        loss += self.__penalty_loss(output_img, org_img)\n",
    "\n",
    "        return loss.requires_grad_(True)\n"
   ]
  },
  {
   "cell_type": "code",
   "execution_count": 64,
   "metadata": {},
   "outputs": [],
   "source": [
    "class EmbeddedFacesDataset(Dataset):\n",
    "    def __init__(self, num_samples, device) -> None:\n",
    "        super().__init__()\n",
    "\n",
    "        self.num_samples = num_samples\n",
    "        self.device = device\n",
    "        self.random_lengths = list(range(128))\n",
    "        self.processor = ProcessorV1_1()\n",
    "        self.chars = \" !\\\"#$%&'()*+,-./0123456789:;<=>?@ABCDEFGHIJKLMNOPQRSTUVWXYZ[\\]^_`abcdefghijklmnopqrstuvwxyz{|}~\"\n",
    "\n",
    "    def __getitem__(self, _) -> Any:\n",
    "        curr_rand_len = random.choice(self.random_lengths)\n",
    "\n",
    "        choices = np.random.choice(list(self.chars), curr_rand_len)\n",
    "        text = ''.join(choices)\n",
    "\n",
    "        output_img = self.processor.embed(text)\n",
    "        output_img = utils.numpy_to_tensor(output_img, self.device)\n",
    "\n",
    "        return output_img\n",
    "\n",
    "    def __len__(self):\n",
    "        return self.num_samples\n"
   ]
  },
  {
   "cell_type": "code",
   "execution_count": 69,
   "metadata": {},
   "outputs": [],
   "source": [
    "LEARNING_RATE = 0.00005\n",
    "BATCH_SIZE = 16\n",
    "\n",
    "total_epochs = 0\n",
    "\n",
    "ds = EmbeddedFacesDataset(10_000, DEVICE)\n",
    "dl = DataLoader(ds, BATCH_SIZE)\n",
    "\n",
    "model = AvapixModel()\n",
    "model.to(DEVICE)\n",
    "\n",
    "criterion = AvapixLoss(1e-6)\n",
    "\n",
    "loss_model = ValidationModel()\n",
    "loss_model.load_state_dict(torch.load(\"./checkpoints_vm/epoch-50.pth\"))\n",
    "loss_model.to(DEVICE)\n",
    "loss_model.eval()\n",
    "\n",
    "optimizer = torch.optim.Adam(model.parameters(), lr=LEARNING_RATE, weight_decay=1e-4)\n",
    "losses = []"
   ]
  },
  {
   "cell_type": "code",
   "execution_count": 70,
   "metadata": {},
   "outputs": [
    {
     "name": "stdout",
     "output_type": "stream",
     "text": [
      "Epoch 01 - Loss: 891.8587\t\tEpoch 02 - Loss: 503.3974\t\t\n",
      "Epoch 03 - Loss: 405.3815\t\tEpoch 04 - Loss: 353.1670\t\t\n",
      "Epoch 05 - Loss: 323.9559\t\tEpoch 06 - Loss: 314.5663\t\t\n",
      "Epoch 07 - Loss: 303.0866\t\tEpoch 08 - Loss: 298.4567\t\t\n",
      "Epoch 09 - Loss: 290.3549\t\tEpoch 10 - Loss: 288.6297\t\t\n",
      "Epoch 11 - Loss: 282.7677\t\tEpoch 12 - Loss: 279.3332\t\t\n",
      "Epoch 13 - Loss: 282.3686\t\tEpoch 14 - Loss: 274.3497\t\t\n",
      "Epoch 15 - Loss: 270.9303\t\tEpoch 16 - Loss: 267.5526\t\t\n",
      "Epoch 17 - Loss: 266.4119\t\tEpoch 18 - Loss: 265.4791\t\t\n",
      "Epoch 19 - Loss: 260.6498\t\tEpoch 20 - Loss: 260.5195\t\t\n",
      "Epoch 21 - Loss: 255.7344\t\tEpoch 22 - Loss: 253.1896\t\t\n",
      "Epoch 23 - Loss: 250.2279\t\tEpoch 24 - Loss: 247.7959\t\t\n",
      "Epoch 25 - Loss: 246.9564\t\tEpoch 26 - Loss: 245.8108\t\t\n",
      "Epoch 27 - Loss: 245.6559\t\tEpoch 28 - Loss: 242.0671\t\t\n",
      "Epoch 29 - Loss: 241.2047\t\tEpoch 30 - Loss: 237.9550\t\t\n",
      "Epoch 31 - Loss: 237.6712\t\tEpoch 32 - Loss: 236.5747\t\t\n",
      "Epoch 33 - Loss: 237.7643\t\tEpoch 34 - Loss: 233.5632\t\t\n",
      "Epoch 35 - Loss: 232.7610\t\tEpoch 36 - Loss: 232.2559\t\t\n",
      "Epoch 37 - Loss: 229.3364\t\tEpoch 38 - Loss: 230.6287\t\t\n",
      "Epoch 39 - Loss: 228.3491\t\tEpoch 40 - Loss: 224.3710\t\t\n",
      "Epoch 41 - Loss: 222.5657\t\tEpoch 42 - Loss: 222.8870\t\t\n",
      "Epoch 43 - Loss: 222.2012\t\tEpoch 44 - Loss: 221.2186\t\t\n",
      "Epoch 45 - Loss: 220.2260\t\tEpoch 46 - Loss: 216.6445\t\t\n",
      "Epoch 47 - Loss: 216.2440\t\tEpoch 48 - Loss: 217.2729\t\t\n",
      "Epoch 49 - Loss: 214.2163\t\tEpoch 50 - Loss: 214.4556\t\t\n",
      "Training complete.\n"
     ]
    }
   ],
   "source": [
    "for epoch in range(50):\n",
    "    model.train()\n",
    "    total_loss = 0.0\n",
    "\n",
    "    for batch_imgs in dl:\n",
    "        optimizer.zero_grad()\n",
    "        outputs = model(batch_imgs)\n",
    "\n",
    "        face_loss = loss_model(outputs)\n",
    "        loss = criterion(face_loss, outputs, batch_imgs)\n",
    "\n",
    "        loss.backward()\n",
    "\n",
    "        optimizer.step()\n",
    "\n",
    "        total_loss += loss.item()\n",
    "\n",
    "    avg_loss = total_loss / len(dl)\n",
    "    losses.append(avg_loss)\n",
    "\n",
    "    print(f\"Epoch {total_epochs + 1:02d} - Loss: {avg_loss:,.4f}\", end=\"\\t\\t\")\n",
    "    if (total_epochs + 1) % 2 == 0:\n",
    "        print()\n",
    "\n",
    "    # save progress\n",
    "    #   save checkpoint\n",
    "    torch.save(model.state_dict(), f\"./checkpoints_am/epoch-{total_epochs + 1}.pth\")\n",
    "    #   save model output\n",
    "    img = utils.tensor_to_numpy(outputs[0])\n",
    "    Image.fromarray(np.kron(img, np.ones((30, 30, 1))).astype(np.uint8)).save(\n",
    "        f\"./train_outputs/{total_epochs + 1:02d}.png\"\n",
    "    )\n",
    "\n",
    "    total_epochs += 1\n",
    "\n",
    "print(\"Training complete.\")"
   ]
  },
  {
   "cell_type": "code",
   "execution_count": 71,
   "metadata": {},
   "outputs": [
    {
     "data": {
      "image/png": "[encoded data removed]",
      "text/plain": [
       "<Figure size 640x480 with 1 Axes>"
      ]
     },
     "metadata": {},
     "output_type": "display_data"
    }
   ],
   "source": [
    "plt.plot(range(1, total_epochs + 1), losses)\n",
    "plt.title(\"Training Loss\")\n",
    "plt.xlabel(\"Epoch\")\n",
    "plt.ylabel(\"Loss\")\n",
    "plt.grid(True)\n",
    "plt.show()"
   ]
  },
  {
   "cell_type": "markdown",
   "metadata": {},
   "source": [
    "## Test Area\n",
    "---"
   ]
  },
  {
   "cell_type": "code",
   "execution_count": 72,
   "metadata": {},
   "outputs": [],
   "source": [
    "processor = ProcessorV1_1()\n",
    "embedded_img = processor.embed('bc1qxy2kgdygjrsqtzq2n0yrf2493p83kkfjhx0wlh')\n",
    "input_img = utils.numpy_to_tensor(embedded_img, DEVICE).unsqueeze(0)"
   ]
  },
  {
   "cell_type": "code",
   "execution_count": 73,
   "metadata": {},
   "outputs": [
    {
     "data": {
      "image/png": "[encoded data removed]",
      "text/plain": [
       "<Figure size 640x480 with 1 Axes>"
      ]
     },
     "metadata": {},
     "output_type": "display_data"
    }
   ],
   "source": [
    "model.eval()\n",
    "output_img = model(input_img)\n",
    "utils.show_model_output_image(output_img)"
   ]
  },
  {
   "cell_type": "code",
   "execution_count": 74,
   "metadata": {},
   "outputs": [
    {
     "data": {
      "image/png": "[encoded data removed]",
      "text/plain": [
       "<Figure size 640x480 with 1 Axes>"
      ]
     },
     "metadata": {},
     "output_type": "display_data"
    }
   ],
   "source": [
    "mask = input_img != 0\n",
    "output_img[mask] = input_img[mask]\n",
    "\n",
    "utils.show_model_output_image(output_img)"
   ]
  },
  {
   "cell_type": "code",
   "execution_count": 62,
   "metadata": {},
   "outputs": [
    {
     "data": {
      "text/plain": [
       "'bc1qxy2kgdygjrsqtzq2n0yrf2493p83kkfjhx0wlh\\r \\x18\\x00\\x07þ\\x12\\x00\\x00\\x00\\x01\\x02\\x00<\\x05\\x00\\x01\\x0b\\x00\\x04\\x04\\x00\\x00\\x01\\x04\\x04\\x00\\x00\\x00\\x00\\x08\\x00\\x00\\x02\\x04\\x01\\x00\\x00\\x00\\x01\\x01\\x01\\x00\\x01\\x02\\x11\\x02\\x00\\x00\\x08\\n\\x03\\x02\\x04\\x10\\x00\\x00\\x00\\x05\\x00\\x00\\x04\\x00\\x00\\x00\\x010\\x01\\x06\\x14\\x13\\x0b'"
      ]
     },
     "execution_count": 62,
     "metadata": {},
     "output_type": "execute_result"
    }
   ],
   "source": [
    "processor.extract(output_img.detach().cpu().squeeze().permute(1, 2, 0).mul(255).numpy().astype(np.uint8))"
   ]
  },
  {
   "cell_type": "code",
   "execution_count": 34,
   "metadata": {},
   "outputs": [],
   "source": [
    "torch.save(model.state_dict(), \"./avapix_in_progress.pth\")"
   ]
  }
 ],
 "metadata": {
  "kernelspec": {
   "display_name": "Python 3",
   "language": "python",
   "name": "python3"
  },
  "language_info": {
   "codemirror_mode": {
    "name": "ipython",
    "version": 3
   },
   "file_extension": ".py",
   "mimetype": "text/x-python",
   "name": "python",
   "nbconvert_exporter": "python",
   "pygments_lexer": "ipython3",
   "version": "3.10.12"
  },
  "orig_nbformat": 4
 },
 "nbformat": 4,
 "nbformat_minor": 2
}
