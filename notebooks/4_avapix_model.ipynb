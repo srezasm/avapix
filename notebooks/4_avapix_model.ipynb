{
 "cells": [
  {
   "cell_type": "code",
   "execution_count": 1,
   "metadata": {},
   "outputs": [],
   "source": [
    "%load_ext autoreload\n",
    "%autoreload 2\n",
    "\n",
    "from typing import Any\n",
    "import random\n",
    "import os\n",
    "\n",
    "import numpy as np\n",
    "\n",
    "from PIL import Image\n",
    "\n",
    "import torch\n",
    "import torch.nn as nn\n",
    "from torch.utils.data import Dataset, DataLoader\n",
    "\n",
    "import matplotlib.pyplot as plt\n",
    "\n",
    "from validation_model import ValidationModel\n",
    "from settings import *\n",
    "from notebooks.avapix_model import AvapixModel\n",
    "from avapix_utils import ProcessorV1_1\n",
    "import utils"
   ]
  },
  {
   "cell_type": "code",
   "execution_count": 2,
   "metadata": {},
   "outputs": [
    {
     "name": "stdout",
     "output_type": "stream",
     "text": [
      "Using device: cuda\n"
     ]
    }
   ],
   "source": [
    "DEVICE = (\n",
    "    'cuda'\n",
    "    if torch.cuda.is_available()\n",
    "    else 'mps'\n",
    "    if torch.backends.mps.is_available()\n",
    "    else 'cpu'\n",
    ")\n",
    "\n",
    "print (f'Using device: {DEVICE}')"
   ]
  },
  {
   "cell_type": "code",
   "execution_count": 5,
   "metadata": {},
   "outputs": [],
   "source": [
    "class AvapixLoss(nn.Module):\n",
    "    def __init__(self, zero_limit_value: float = 0.01) -> None:\n",
    "        super().__init__()\n",
    "\n",
    "        self.zero_limit_value = zero_limit_value\n",
    "\n",
    "    def __face_shape_loss(self, x: torch.Tensor):\n",
    "        \"\"\"\n",
    "        Given the validity of the generated image, calculate the\n",
    "        loss of the generated image. The loss is calculated by\n",
    "        the following formula:\n",
    "\n",
    "        loss = tan(1) / x - tan(x)\n",
    "\n",
    "        Which starts from 0 when x = 0, and increases exponentially\n",
    "        as x approaches 1. Therefore the zero_limit_value, limits\n",
    "        the minimum value of x to be zero_limit_value.\n",
    "\n",
    "        The total loss is calculated by taking the mean of the\n",
    "        cubed loss of each generated image.\n",
    "        \"\"\"\n",
    "        x = x.masked_fill(x < self.zero_limit_value, self.zero_limit_value)\n",
    "\n",
    "        one_tensor = torch.tensor([1.0], device=self.device)\n",
    "        loss = torch.tan(one_tensor) / x - torch.tan(x)\n",
    "        loss = loss.pow(2).mean()\n",
    "\n",
    "        return loss\n",
    "\n",
    "    def __penalty_loss(self, output_img: torch.Tensor, org_img: torch.Tensor):\n",
    "        \"\"\"\n",
    "        Penalize the output image embedded color images are not the same\n",
    "        as the original image.\n",
    "        \"\"\"\n",
    "        mask = org_img != 0\n",
    "\n",
    "        result = torch.zeros_like(output_img)\n",
    "        result[mask] = output_img[mask]\n",
    "\n",
    "        loss = (result - org_img).pow(2).mean()\n",
    "\n",
    "        return loss\n",
    "\n",
    "    def forward(self, x: torch.Tensor, output_img: torch.Tensor, org_img: torch.Tensor):\n",
    "        self.device = x.device\n",
    "\n",
    "        loss = self.__face_shape_loss(x)\n",
    "        # loss += self.__penalty_loss(output_img, org_img)\n",
    "\n",
    "        return loss.requires_grad_(True)\n"
   ]
  },
  {
   "cell_type": "code",
   "execution_count": 6,
   "metadata": {},
   "outputs": [],
   "source": [
    "class EmbeddedFacesDataset(Dataset):\n",
    "    def __init__(self, num_samples) -> None:\n",
    "        super().__init__()\n",
    "\n",
    "        self.num_samples = num_samples\n",
    "        self.random_lengths = list(range(128))\n",
    "        self.processor = ProcessorV1_1()\n",
    "        self.chars = \"!\\\"#$%&'()*+,-./0123456789:;<=>?@ABCDEFGHIJKLMNOPQRSTUVWXYZ[\\]^_`abcdefghijklmnopqrstuvwxyz{|}~\"\n",
    "\n",
    "    def __getitem__(self, index) -> Any:\n",
    "        curr_rand_len = random.choice(self.random_lengths)\n",
    "\n",
    "        choices = np.random.choice(list(self.chars), curr_rand_len)\n",
    "        text = ''.join(choices)\n",
    "\n",
    "        output_img = self.processor.embed(text)\n",
    "        output_img = torch.tensor(output_img, dtype=torch.float32, device=DEVICE)\n",
    "        output_img = output_img.permute((2, 0, 1))\n",
    "\n",
    "        return output_img / 255\n",
    "\n",
    "    def __len__(self):\n",
    "        return self.num_samples\n"
   ]
  },
  {
   "cell_type": "code",
   "execution_count": 7,
   "metadata": {},
   "outputs": [],
   "source": [
    "LEARNING_RATE = 0.0001\n",
    "BATCH_SIZE = 16\n",
    "\n",
    "total_epochs = 0\n",
    "\n",
    "dataset = EmbeddedFacesDataset(200_000)\n",
    "dataloader = DataLoader(dataset, BATCH_SIZE, shuffle=False)\n",
    "\n",
    "model = AvapixModel()\n",
    "model.to(DEVICE)\n",
    "\n",
    "criterion = AvapixLoss(1e-6)\n",
    "\n",
    "loss_model = ValidationModel()\n",
    "loss_model.load_state_dict(torch.load(\"./vm_checkpoints/validation_model_v1_8.pth\"))\n",
    "loss_model.to(DEVICE)\n",
    "loss_model.eval()\n",
    "\n",
    "optimizer = torch.optim.Adam(model.parameters(), lr=LEARNING_RATE, weight_decay=1e-4)\n",
    "losses = []"
   ]
  },
  {
   "cell_type": "code",
   "execution_count": 8,
   "metadata": {},
   "outputs": [
    {
     "name": "stderr",
     "output_type": "stream",
     "text": [
      "/home/srezas/Programming/projects/avapix/.venv/lib/python3.10/site-packages/torch/nn/modules/conv.py:459: UserWarning: Applied workaround for CuDNN issue, install nvrtc.so (Triggered internally at ../aten/src/ATen/native/cudnn/Conv_v8.cpp:80.)\n",
      "  return F.conv2d(input, weight, bias, self.stride,\n"
     ]
    },
    {
     "name": "stdout",
     "output_type": "stream",
     "text": [
      "Epoch 01 - Loss: 256,872,079,907.0950\t\tEpoch 02 - Loss: 258,186,524,230.6151\t\t\n",
      "Epoch 03 - Loss: 256,516,608,443.8234\t\tEpoch 04 - Loss: 261,384,212,079.5738\t\t\n",
      "Epoch 05 - Loss: 256,836,432,022.4051\t\tEpoch 06 - Loss: 254,750,176,030.1997\t\t\n",
      "Epoch 07 - Loss: 257,606,118,375.6698\t\tEpoch 08 - Loss: 256,845,031,767.1194\t\t\n",
      "Epoch 09 - Loss: 259,537,022,143.7030\t\tEpoch 10 - Loss: 255,411,029,189.9225\t\t\n",
      "Epoch 11 - Loss: 255,727,154,165.6294\t\tEpoch 12 - Loss: 254,671,046,987.2486\t\t\n",
      "Epoch 13 - Loss: 258,075,899,039.9514\t\tEpoch 14 - Loss: 259,382,017,214.5242\t\t\n",
      "Epoch 15 - Loss: 257,053,528,274.3270\t\tTraining complete.\n"
     ]
    }
   ],
   "source": [
    "for epoch in range(15):\n",
    "    model.train()\n",
    "    total_loss = 0.0\n",
    "\n",
    "    for batch_imgs in dataloader:\n",
    "        optimizer.zero_grad()\n",
    "        outputs = model(batch_imgs)\n",
    "\n",
    "        with torch.no_grad():\n",
    "            face_loss = loss_model(outputs)\n",
    "        loss = criterion(face_loss, batch_imgs, outputs)\n",
    "\n",
    "        loss.backward()\n",
    "\n",
    "        optimizer.step()\n",
    "\n",
    "        total_loss += loss.item()\n",
    "\n",
    "    avg_loss = total_loss / len(dataloader)\n",
    "    losses.append(avg_loss)\n",
    "\n",
    "    print(f\"Epoch {total_epochs + 1:02d} - Loss: {avg_loss:,.4f}\", end=\"\\t\\t\")\n",
    "    if (total_epochs + 1) % 2 == 0:\n",
    "        print()\n",
    "\n",
    "    # save progress\n",
    "    torch.save(model.state_dict(), f\"./checkpoints/epoch-{total_epochs + 1}.pth\")\n",
    "    img = utils.img_tensor_to_numpy(outputs[0])\n",
    "    Image.fromarray(np.kron(img, np.ones((30, 30, 1))).astype(np.uint8)).save(\n",
    "        f\"./train_outputs/{total_epochs + 1:02d}.png\"\n",
    "    )\n",
    "\n",
    "    total_epochs += 1\n",
    "\n",
    "print(\"Training complete.\")"
   ]
  },
  {
   "cell_type": "code",
   "execution_count": 11,
   "metadata": {},
   "outputs": [
    {
     "data": {
      "image/png": "[encoded data removed]",
      "text/plain": [
       "<Figure size 640x480 with 1 Axes>"
      ]
     },
     "metadata": {},
     "output_type": "display_data"
    }
   ],
   "source": [
    "plt.plot(range(1, total_epochs + 1), losses)\n",
    "plt.title(\"Training Loss\")\n",
    "plt.xlabel(\"Epoch\")\n",
    "plt.ylabel(\"Loss\")\n",
    "plt.grid(True)\n",
    "plt.show()"
   ]
  },
  {
   "cell_type": "markdown",
   "metadata": {},
   "source": [
    "## Test Area\n",
    "---"
   ]
  },
  {
   "cell_type": "code",
   "execution_count": 32,
   "metadata": {},
   "outputs": [],
   "source": [
    "processor = ProcessorV1_1()\n",
    "_ = processor.embed('bc1qxy2kgdygjrsqtzq2n0yrf2493p83kkfjhx0wlh')\n",
    "_ = torch.tensor(_, device=DEVICE) / 255\n",
    "_ = _.permute((2, 0, 1))\n",
    "_ = _.unsqueeze(0)"
   ]
  },
  {
   "cell_type": "code",
   "execution_count": 33,
   "metadata": {},
   "outputs": [
    {
     "data": {
      "image/png": "[encoded data removed]",
      "text/plain": [
       "<Figure size 640x480 with 1 Axes>"
      ]
     },
     "metadata": {},
     "output_type": "display_data"
    }
   ],
   "source": [
    "model.eval()\n",
    "i_ = model(_)\n",
    "utils.show_model_output_image(i_)"
   ]
  },
  {
   "cell_type": "code",
   "execution_count": 35,
   "metadata": {},
   "outputs": [
    {
     "data": {
      "image/png": "[encoded data removed]",
      "text/plain": [
       "<Figure size 640x480 with 1 Axes>"
      ]
     },
     "metadata": {},
     "output_type": "display_data"
    }
   ],
   "source": [
    "mask = _ != 0\n",
    "i_[mask] = _[mask]\n",
    "\n",
    "utils.show_model_output_image(i_)"
   ]
  },
  {
   "cell_type": "code",
   "execution_count": 47,
   "metadata": {},
   "outputs": [
    {
     "data": {
      "text/plain": [
       "\"43'x'''''q''''f''''''k''y''''j'g'''hx''t''r''''y'''''f''''''''''''''''''''''0''''hrqp''d''''n''''''''''\""
      ]
     },
     "execution_count": 47,
     "metadata": {},
     "output_type": "execute_result"
    }
   ],
   "source": [
    "processor.extract(i_.detach().cpu().squeeze().permute(1, 2, 0).mul(255).numpy().astype(np.uint8))"
   ]
  },
  {
   "cell_type": "code",
   "execution_count": 34,
   "metadata": {},
   "outputs": [],
   "source": [
    "torch.save(model.state_dict(), \"./avapix_in_progress.pth\")"
   ]
  }
 ],
 "metadata": {
  "kernelspec": {
   "display_name": "Python 3",
   "language": "python",
   "name": "python3"
  },
  "language_info": {
   "codemirror_mode": {
    "name": "ipython",
    "version": 3
   },
   "file_extension": ".py",
   "mimetype": "text/x-python",
   "name": "python",
   "nbconvert_exporter": "python",
   "pygments_lexer": "ipython3",
   "version": "3.10.12"
  },
  "orig_nbformat": 4
 },
 "nbformat": 4,
 "nbformat_minor": 2
}
